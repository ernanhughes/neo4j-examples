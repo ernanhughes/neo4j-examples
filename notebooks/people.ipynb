{
 "cells": [
  {
   "cell_type": "code",
   "execution_count": 8,
   "metadata": {},
   "outputs": [],
   "source": [
    "from neo4j import GraphDatabase\n",
    "\n",
    "class Neo4jExample:\n",
    "    def __init__(self, uri, user, password):\n",
    "        self.driver = GraphDatabase.driver(uri, auth=(user, password))\n",
    "\n",
    "    def close(self):\n",
    "        self.driver.close()\n",
    "\n",
    "    def create_entities_and_relationships(self):\n",
    "        with self.driver.session() as session:\n",
    "            session.execute_write(self._create_nodes)\n",
    "            session.execute_write(self._create_relationships)\n",
    "\n",
    "    @staticmethod\n",
    "    def _create_nodes(tx):\n",
    "        queries = [\n",
    "            \"CREATE (:Person {name: 'Alice', age: 30});\",\n",
    "            \"CREATE (:Person {name: 'Bob', age: 25});\",\n",
    "            \"CREATE (:Person {name: 'Charlie', age: 35});\",\n",
    "            \"CREATE (:Company {name: 'TechCorp'});\"\n",
    "        ]\n",
    "        for query in queries:\n",
    "            tx.run(query)\n",
    "        \n",
    "    @staticmethod\n",
    "    def _create_relationships(tx):\n",
    "        queries = [\n",
    "            \"MATCH (a:Person {name: 'Alice'}), (b:Person {name: 'Bob'}) CREATE (a)-[:FRIEND]->(b);\",\n",
    "            \"MATCH (b:Person {name: 'Bob'}), (c:Person {name: 'Charlie'}) CREATE (b)-[:FRIEND]->(c);\",\n",
    "            \"MATCH (a:Person {name: 'Alice'}), (c:Company {name: 'TechCorp'}) CREATE (a)-[:WORKS_AT]->(c);\"\n",
    "        ]\n",
    "        \n",
    "        for query in queries:\n",
    "            tx.run(query)\n",
    "\n"
   ]
  },
  {
   "cell_type": "code",
   "execution_count": 9,
   "metadata": {},
   "outputs": [
    {
     "name": "stdout",
     "output_type": "stream",
     "text": [
      "Graph database setup complete!\n"
     ]
    }
   ],
   "source": [
    "import os\n",
    "from dotenv import load_dotenv\n",
    "load_dotenv()\n",
    "\n",
    "NEO4J_URI = \"bolt://localhost:7687\"  # Adjust if your Neo4j instance is hosted elsewhere\n",
    "NEO4J_USERNAME = \"neo4j\"\n",
    "NEO4J_PASSWORD = \"werewolf\"  # Replace with your actual password\n",
    "\n",
    "uri = os.getenv(\"NEO4J_URI\") \n",
    "user = os.getenv(\"NEO4J_USERNAME\")\n",
    "password = os.getenv(\"NEO4J_PASSWORD\")\n",
    "\n",
    "\n",
    "neo4j_example = Neo4jExample(uri, user, password)\n",
    "neo4j_example.create_entities_and_relationships()\n",
    "neo4j_example.close()\n",
    "print(\"Graph database setup complete!\")\n"
   ]
  }
 ],
 "metadata": {
  "kernelspec": {
   "display_name": "venv",
   "language": "python",
   "name": "python3"
  },
  "language_info": {
   "codemirror_mode": {
    "name": "ipython",
    "version": 3
   },
   "file_extension": ".py",
   "mimetype": "text/x-python",
   "name": "python",
   "nbconvert_exporter": "python",
   "pygments_lexer": "ipython3",
   "version": "3.11.9"
  }
 },
 "nbformat": 4,
 "nbformat_minor": 2
}
